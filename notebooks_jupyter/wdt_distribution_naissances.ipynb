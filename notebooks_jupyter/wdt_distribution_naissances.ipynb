{
 "cells": [
  {
   "cell_type": "markdown",
   "id": "71ddfeeb",
   "metadata": {},
   "source": [
    "# Distribution des dates de naissance des chefs étoilés\n",
    "\n",
    "Ce notebook analyse la répartition temporelle des dates de naissance des chefs français étoilés Michelin. L’objectif est d’observer comment cette population se répartit entre les générations"
   ]
  },
  {
   "cell_type": "code",
   "execution_count": null,
   "id": "b7b21d1a",
   "metadata": {},
   "outputs": [],
   "source": [
    "import pandas as pd\n",
    "import matplotlib.pyplot as plt\n",
    "plt.style.use('seaborn-whitegrid')"
   ]
  },
  {
   "cell_type": "code",
   "execution_count": null,
   "id": "a1ca31dc",
   "metadata": {},
   "outputs": [],
   "source": [
    "# Charger le fichier CSV exporté depuis Wikidata\n",
    "df = pd.read_csv(\"Wikidata/wdt_donnees_chefs.csv\")\n",
    "df.head()"
   ]
  },
  {
   "cell_type": "code",
   "execution_count": null,
   "id": "098683dc",
   "metadata": {},
   "outputs": [],
   "source": [
    "# Transformer la date de naissance en année uniquement\n",
    "df[\"annee_naissance\"] = pd.to_datetime(df[\"birthDate\"], errors=\"coerce\").dt.year\n",
    "df[\"annee_naissance\"].dropna().astype(int).head()"
   ]
  },
  {
   "cell_type": "code",
   "execution_count": null,
   "id": "0b51ed0a",
   "metadata": {},
   "outputs": [],
   "source": [
    "# Affichage de la distribution des années de naissance\n",
    "plt.figure(figsize=(10, 5))\n",
    "df[\"annee_naissance\"].dropna().astype(int).hist(bins=15)\n",
    "plt.title(\"Distribution des dates de naissance des chefs étoilés\")\n",
    "plt.xlabel(\"Année de naissance\")\n",
    "plt.ylabel(\"Nombre de chefs\")\n",
    "plt.tight_layout()\n",
    "plt.show()"
   ]
  }
 ],
 "metadata": {
  "kernelspec": {
   "display_name": "Python 3",
   "language": "python",
   "name": "python3"
  },
  "language_info": {
   "name": "python",
   "version": "3.10"
  }
 },
 "nbformat": 4,
 "nbformat_minor": 5
}

