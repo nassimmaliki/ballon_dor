{
 "cells": [
  {
   "cell_type": "markdown",
   "id": "91fd44a9",
   "metadata": {},
   "source": [
    "# Analyse bivariée : Évolution du nombre de femmes chefs étoilées par génération"
   ]
  },
  {
   "cell_type": "markdown",
   "id": "0c4737ff",
   "metadata": {},
   "source": [
    "Ce notebook vise à étudier la distribution des femmes chefs étoilées en fonction de leur génération de naissance. L'objectif est de déterminer s'il y a eu une évolution notable du nombre de femmes dans le champ gastronomique au fil du temps."
   ]
  },
  {
   "cell_type": "code",
   "execution_count": null,
   "id": "119c58cb",
   "metadata": {},
   "outputs": [],
   "source": [
    "import pandas as pd\n",
    "import seaborn as sns\n",
    "import matplotlib.pyplot as plt\n",
    "from scipy.stats import chi2_contingency"
   ]
  },
  {
   "cell_type": "code",
   "execution_count": null,
   "id": "adc5d784",
   "metadata": {},
   "outputs": [],
   "source": [
    "# Chargement des données\n",
    "df = pd.read_csv('wdt_donnees_chefs.csv')\n",
    "df['birthDate'] = pd.to_datetime(df['birthDate'], errors='coerce')"
   ]
  },
  {
   "cell_type": "code",
   "execution_count": null,
   "id": "142f465e",
   "metadata": {},
   "outputs": [],
   "source": [
    "# Création de la variable 'génération'\n",
    "df['generation'] = pd.cut(\n",
    "    df['birthDate'].dt.year,\n",
    "    bins=[1900, 1940, 1960, 1980, 2000, 2025],\n",
    "    labels=[\"1900–40\", \"1941–60\", \"1961–80\", \"1981–2000\", \"2001–2025\"]\n",
    ")"
   ]
  },
  {
   "cell_type": "code",
   "execution_count": null,
   "id": "18f5449a",
   "metadata": {},
   "outputs": [],
   "source": [
    "# Filtrer uniquement les femmes avec génération définie\n",
    "df_femmes = df[(df['genderLabel'] == 'féminin') & (df['generation'].notnull())]"
   ]
  },
  {
   "cell_type": "code",
   "execution_count": null,
   "id": "5e0ef849",
   "metadata": {},
   "outputs": [],
   "source": [
    "# Créer tableau croisé génération × nombre de femmes\n",
    "femmes_par_gen = df_femmes['generation'].value_counts().sort_index()\n",
    "femmes_par_gen = femmes_par_gen[femmes_par_gen > 0]  # Retirer les 0"
   ]
  },
  {
   "cell_type": "code",
   "execution_count": null,
   "id": "1cd56c1c",
   "metadata": {},
   "outputs": [],
   "source": [
    "# Visualisation du nombre de femmes par génération\n",
    "sns.set(style=\"whitegrid\")\n",
    "plt.figure(figsize=(6, 4))\n",
    "sns.barplot(x=femmes_par_gen.index, y=femmes_par_gen.values)\n",
    "plt.title(\"Nombre de femmes chefs étoilées par génération\")\n",
    "plt.xlabel(\"Génération\")\n",
    "plt.ylabel(\"Nombre de femmes\")\n",
    "plt.tight_layout()\n",
    "plt.show()"
   ]
  },
  {
   "cell_type": "code",
   "execution_count": null,
   "id": "2967a116",
   "metadata": {},
   "outputs": [],
   "source": [
    "# Test du Chi-2 sur genre × génération\n",
    "df['generation'] = pd.Categorical(df['generation'])\n",
    "crosstab = pd.crosstab(df['generation'], df['genderLabel'])\n",
    "chi2, p, dof, expected = chi2_contingency(crosstab)\n",
    "print(f\"Chi2 = {chi2:.2f}, p-value = {p:.4f}\")"
   ]
  }
 ],
 "metadata": {
  "kernelspec": {
   "display_name": "Python 3",
   "language": "python",
   "name": "python3"
  },
  "language_info": {
   "name": "python",
   "version": "3.10"
  }
 },
 "nbformat": 4,
 "nbformat_minor": 5
}
