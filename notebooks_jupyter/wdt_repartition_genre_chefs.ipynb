{
 "cells": [
  {
   "cell_type": "markdown",
   "id": "7b3b6ab1",
   "metadata": {},
   "source": [
    "# Répartition des chefs étoilés par genre\n",
    "\n",
    "Ce notebook analyse la répartition par sexe des chefs français étoilés Michelin présents dans Wikidata.  \n",
    "L’objectif est de visualiser la proportion d’hommes et de femmes dans cette profession, à partir des données extraites via SPARQL."
   ]
  },
  {
   "cell_type": "code",
   "execution_count": null,
   "id": "bd9f442c",
   "metadata": {},
   "outputs": [],
   "source": [
    "import pandas as pd\n",
    "import matplotlib.pyplot as plt\n",
    "plt.style.use('seaborn-whitegrid')"
   ]
  },
  {
   "cell_type": "code",
   "execution_count": null,
   "id": "5733c824",
   "metadata": {},
   "outputs": [],
   "source": [
    "# Charger le fichier contenant les données SPARQL enrichies\n",
    "df = pd.read_csv(\"Wikidata/wdt_donnees_chefs.csv\")\n",
    "df.head()"
   ]
  },
  {
   "cell_type": "code",
   "execution_count": null,
   "id": "da0fe193",
   "metadata": {},
   "outputs": [],
   "source": [
    "# Nettoyage de la colonne de genre\n",
    "df[\"genre\"] = df[\"genderLabel\"].fillna(\"Inconnu\")\n",
    "df[\"genre\"].value_counts()"
   ]
  },
  {
   "cell_type": "code",
   "execution_count": null,
   "id": "b9abc198",
   "metadata": {},
   "outputs": [],
   "source": [
    "# Graphique en camembert de la répartition par genre\n",
    "counts = df[\"genre\"].value_counts()\n",
    "plt.figure(figsize=(6, 6))\n",
    "counts.plot.pie(autopct='%1.1f%%', startangle=90, counterclock=False)\n",
    "plt.title(\"Répartition des chefs étoilés par genre\")\n",
    "plt.ylabel(\"\")\n",
    "plt.tight_layout()\n",
    "plt.show()"
   ]
  }
 ],
 "metadata": {
  "kernelspec": {
   "display_name": "Python 3",
   "language": "python",
   "name": "python3"
  },
  "language_info": {
   "name": "python",
   "version": "3.10"
  }
 },
 "nbformat": 4,
 "nbformat_minor": 5
}
