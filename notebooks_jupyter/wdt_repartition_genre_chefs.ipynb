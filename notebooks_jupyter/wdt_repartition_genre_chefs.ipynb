{
 "cells": [
  {
   "cell_type": "markdown",
   "id": "7b3b6ab1",
   "metadata": {},
   "source": [
    "\n",
    "# Répartition des chefs étoilés par genre\n",
    "\n",
    "Ce notebook analyse la répartition par sexe des chefs français étoilés Michelin présents dans Wikidata.  \n",
    "L’objectif est de visualiser la proportion d’hommes et de femmes dans cette profession, à partir des données extraites via SPARQL.\n"
   ]
  },
  {
   "cell_type": "code",
   "execution_count": null,
   "id": "bd9f442c",
   "metadata": {},
   "outputs": [],
   "source": [
    "\n",
    "import pandas as pd\n",
    "import matplotlib.pyplot as plt\n",
    "plt.style.use('seaborn-whitegrid')\n"
   ]
  },
  {
   "cell_type": "code",
   "execution_count": null,
   "id": "5733c824",
   "metadata": {},
   "outputs": [],
   "source": [
    "\n",
    "# Charger le fichier contenant les données SPARQL enrichies\n",
    "df = pd.read_csv(\"Wikidata/wdt_donnees_chefs.csv\")\n",
    "df.head()\n"
   ]
  },
  {
   "cell_type": "code",
   "execution_count": null,
   "id": "da0fe193",
   "metadata": {},
   "outputs": [],
   "source": [
    "\n",
    "# Nettoyage de la colonne de genre\n",
    "df[\"genre\"] = df[\"genderLabel\"].fillna(\"Inconnu\")\n",
    "df[\"genre\"].value_counts()\n"
   ]
  },
  {
   "cell_type": "code",
   "execution_count": null,
   "id": "b9abc198",
   "metadata": {},
   "outputs": [],
   "source": [
    "\n",
    "# Graphique en camembert de la répartition par genre\n",
    "counts = df[\"genre\"].value_counts()\n",
    "plt.figure(figsize=(6, 6))\n",
    "counts.plot.pie(autopct='%1.1f%%', startangle=90, counterclock=False)\n",
    "plt.title(\"Répartition des chefs étoilés par genre\")\n",
    "plt.ylabel(\"\")\n",
    "plt.tight_layout()\n",
    "plt.show()\n"
   ]
  },
  {
   "cell_type": "markdown",
   "id": "584ec5fd",
   "metadata": {},
   "source": [
    "\n",
    "## Interprétation\n",
    "\n",
    "Les données montrent une forte domination masculine parmi les chefs étoilés référencés dans Wikidata.  \n",
    "Cela reflète des inégalités persistantes dans l’accès à la reconnaissance professionnelle dans le champ de la haute gastronomie.\n",
    "\n",
    "Cette inégale répartition peut s’expliquer par plusieurs facteurs :\n",
    "- Un accès plus difficile pour les femmes aux postes à haute visibilité dans les cuisines professionnelles.\n",
    "- Des biais historiques dans la médiatisation et la valorisation des carrières masculines.\n",
    "\n",
    "Il est important de souligner que cette inégalité est à la fois structurelle et représentationnelle.\n"
   ]
  }
 ],
 "metadata": {},
 "nbformat": 4,
 "nbformat_minor": 5
}
