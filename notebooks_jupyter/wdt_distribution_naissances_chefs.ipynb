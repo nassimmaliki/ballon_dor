{
 "cells": [
  {
   "cell_type": "markdown",
   "id": "71ddfeeb",
   "metadata": {},
   "source": [
    "\n",
    "# Distribution des dates de naissance des chefs étoilés\n",
    "\n",
    "Ce notebook analyse la répartition temporelle des dates de naissance des chefs français étoilés Michelin, extraits de Wikidata.  \n",
    "L’objectif est d’observer comment cette population se répartit entre les générations, et de poser une première base d’analyse démographique.\n"
   ]
  },
  {
   "cell_type": "code",
   "execution_count": null,
   "id": "b7b21d1a",
   "metadata": {},
   "outputs": [],
   "source": [
    "\n",
    "import pandas as pd\n",
    "import matplotlib.pyplot as plt\n",
    "plt.style.use('seaborn-whitegrid')\n"
   ]
  },
  {
   "cell_type": "code",
   "execution_count": null,
   "id": "a1ca31dc",
   "metadata": {},
   "outputs": [],
   "source": [
    "\n",
    "# Charger le fichier CSV exporté depuis Wikidata\n",
    "df = pd.read_csv(\"Wikidata/wdt_donnees_chefs.csv\")\n",
    "df.head()\n"
   ]
  },
  {
   "cell_type": "code",
   "execution_count": null,
   "id": "098683dc",
   "metadata": {},
   "outputs": [],
   "source": [
    "\n",
    "# Transformer la date de naissance en année uniquement\n",
    "df[\"annee_naissance\"] = pd.to_datetime(df[\"birthDate\"], errors=\"coerce\").dt.year\n",
    "df[\"annee_naissance\"].dropna().astype(int).head()\n"
   ]
  },
  {
   "cell_type": "code",
   "execution_count": null,
   "id": "0b51ed0a",
   "metadata": {},
   "outputs": [],
   "source": [
    "\n",
    "# Affichage de la distribution des années de naissance\n",
    "plt.figure(figsize=(10, 5))\n",
    "df[\"annee_naissance\"].dropna().astype(int).hist(bins=15)\n",
    "plt.title(\"Distribution des dates de naissance des chefs étoilés\")\n",
    "plt.xlabel(\"Année de naissance\")\n",
    "plt.ylabel(\"Nombre de chefs\")\n",
    "plt.tight_layout()\n",
    "plt.show()\n"
   ]
  },
  {
   "cell_type": "markdown",
   "id": "7cf6b47e",
   "metadata": {},
   "source": [
    "\n",
    "## Interprétation\n",
    "\n",
    "On observe que la majorité des chefs étoilés de la base sont nés entre 1940 et 1980.  \n",
    "Cela peut s’expliquer par une concentration générationnelle dans la profession, mais aussi par une meilleure couverture des individus récents sur Wikidata.\n",
    "\n",
    "Ce graphique constitue une première exploration de la population, et permet d’initier une analyse par générations.\n"
   ]
  }
 ],
 "metadata": {},
 "nbformat": 4,
 "nbformat_minor": 5
}
