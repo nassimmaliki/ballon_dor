{
 "cells": [
  {
   "cell_type": "markdown",
   "id": "71ddfeeb",
   "metadata": {},
   "source": [
    "\n",
    "# Distribution des dates de naissance des chefs étoilés\n",
    "\n",
    "Ce notebook analyse la répartition temporelle des dates de naissance des chefs français étoilés Michelin, extraits de Wikidata.  \n",
    "L’objectif est d’observer comment cette population se répartit entre les générations, et de poser une première base d’analyse démographique.\n"
   ]
  },
  {
   "cell_type": "code",
   "execution_count": null,
   "id": "b7b21d1a",
   "metadata": {},
   "outputs": [],
   "source": [
    "\n",
    "import pandas as pd\n",
    "import matplotlib.pyplot as plt\n",
    "plt.style.use('seaborn-whitegrid')\n"
   ]
  },
  {
   "cell_type": "code",
   "execution_count": null,
   "id": "a1ca31dc",
   "metadata": {},
   "outputs": [],
   "source": [
    "\n",
    "# Charger le fichier CSV exporté depuis Wikidata\n",
    "df = pd.read_csv(\"Wikidata/wdt_donnees_chefs.csv\")\n",
    "df.head()\n"
   ]
  },
  {
   "cell_type": "code",
   "execution_count": null,
   "id": "098683dc",
   "metadata": {},
   "outputs": [],
   "source": [
    "\n",
    "# Transformer la date de naissance en année uniquement\n",
    "df[\"annee_naissance\"] = pd.to_datetime(df[\"birthDate\"], errors=\"coerce\").dt.year\n",
    "df[\"annee_naissance\"].dropna().astype(int).head()\n"
   ]
  },
  {
   "cell_type": "code",
   "execution_count": null,
   "id": "0b51ed0a",
   "metadata": {},
   "outputs": [],
   "source": [
    "\n",
    "# Affichage de la distribution des années de naissance\n",
    "plt.figure(figsize=(10, 5))\n",
    "df[\"annee_naissance\"].dropna().astype(int).hist(bins=15)\n",
    "plt.title(\"Distribution des dates de naissance des chefs étoilés\")\n",
    "plt.xlabel(\"Année de naissance\")\n",
    "plt.ylabel(\"Nombre de chefs\")\n",
    "plt.tight_layout()\n",
    "plt.show()\n"
   ]
  },
  {
   "cell_type": "markdown",
   "id": "7cf6b47e",
   "metadata": {},
   "source": [
    "\n",
    "## Interprétation\n",
    "\n",
    "En regardant les dates de naissance des chefs étoilés, on remarque une forte concentration entre les années 1950 et 1980. Ce n’est probablement pas un hasard, et il y a plusieurs éléments qui peuvent expliquer ce pic.\n",
    "D’abord, même si les étoiles Michelin existent depuis 1920, ce n’était pas tout de suite une récompense aussi reconnue qu’aujourd’hui. Au début, c’était nouveau, les critères n’étaient pas forcément bien définis, peut-être plus stricts aussi. Il a fallu du temps pour que les gens comprennent vraiment ce que ça représentait, et pour que les chefs commencent à viser sérieusement cette reconnaissance.\n",
    "\n",
    "Ensuite, pour les générations nées après 1980, il y en a naturellement moins dans les chefs étoilés — mais ça ne veut pas dire qu’il y a un recul. C’est surtout que gagner une étoile Michelin prend beaucoup de temps, d’expérience, de travail, et il est rare qu’un chef en obtienne une très jeune. Donc les plus jeunes générations ne sont simplement pas encore “mûres”\n"
   ]
  }
 ],
 "metadata": {},
 "nbformat": 4,
 "nbformat_minor": 5
}
